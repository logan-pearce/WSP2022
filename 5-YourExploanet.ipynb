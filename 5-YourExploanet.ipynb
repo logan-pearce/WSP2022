{
 "cells": [
  {
   "cell_type": "markdown",
   "metadata": {},
   "source": [
    "<font color='cornflowerblue' size = 7>Your turn!</font>\n",
    "\n",
    "Find an interesting planet that has both transit and radial velocity detections, retrieve the light curve and radial velocity curve, compute the density and equilibrium temperature, and put your planet on the density plot from yesterday.  \n",
    "\n",
    "Tips:\n",
    " - On the Exoplanet Archive click on \"Planetary Systems\" underneath \"Working with Data\".  You can filter the table by discovery method.\n",
    " - Find a system with only one known planet to simplfy the RV and light curves.\n",
    " - Remember that if you don't see the data in the archive entry, look inside the referenced articles for light curves or RV curves and use those.\n",
    " - Don't hesitate to do some googling to find some neat systems that are unique in some way\n",
    "    \n",
    "**IMPORTANT:  Yes you can find the mass and radius in the archive, but you need to do your own calculation and demonstrate how you derived it from the data!**\n",
    "\n",
    "    \n",
    "Use this notebook for your work"
   ]
  },
  {
   "cell_type": "markdown",
   "metadata": {},
   "source": [
    "<font color='cornflowerblue' size = 5>Make a presentation!</font>\n",
    "\n",
    "Make a presentation to share with your class what we did this week and your neat planet system.  Shoot for ~15 min presentation.  All people need to talk during the presentation, and each person should present their planet.\n",
    "\n",
    "Requirements:\n",
    " - Each person should participate in presenting the background information so the audience can understand what you did to characterize your planet.\n",
    " - Each person should show their planet's data (light curve and RV curve), their computed density and position on the density plot, and the equilibrium temperature of the planet, and describe how they arrived at their results.\n",
    "\n",
    "Tips:\n",
    " - Use Google Slides to collaborate on the presentation\n",
    " - A good rule of thumb is ~1 min per slide, so shoot for ~15 slides\n",
    " - It helps to put numbers in context so the audience can understand them (ex: KELT-9'b surface temp is ~4000K, that's hotter than the surface of some stars!)\n",
    " - Use google to get neat images and spice up your presentation. (don't forget to include attribution for who's image you stole I mean borrowed)\n",
    " - If you learned cool stuff about your planet include it!\n",
    " - Make your presentation fun not boring!"
   ]
  },
  {
   "cell_type": "markdown",
   "metadata": {},
   "source": []
  }
 ],
 "metadata": {
  "kernelspec": {
   "display_name": "Python 3.8.3 64-bit ('wsp': conda)",
   "language": "python",
   "name": "python3"
  },
  "language_info": {
   "name": "python",
   "version": "3.8.3"
  },
  "orig_nbformat": 4,
  "vscode": {
   "interpreter": {
    "hash": "7e7403a945568f5309ee3d06baa529927a2574c4be8b4debc5ee1d639890bbc8"
   }
  }
 },
 "nbformat": 4,
 "nbformat_minor": 2
}
