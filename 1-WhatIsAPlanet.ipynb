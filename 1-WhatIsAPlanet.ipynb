{
 "cells": [
  {
   "cell_type": "markdown",
   "metadata": {},
   "source": [
    "<font color='cornflowerblue' size = 7>Earth 2.0??</font>\n",
    "\n",
    "<font color='cornflowerblue'>**Discuss:**</font> Could there be another Earth out there somewhere?  \n",
    "\n",
    "<br>\n",
    "<br>\n",
    "<br>\n",
    "<br>\n",
    "<br>\n",
    "<br>\n",
    "<br>\n",
    "<br>\n",
    "<br><br>\n",
    "<br><br>\n",
    "<br><br>\n",
    "<br><br>\n",
    "\n",
    "Astronomers think yes, however we have yet to detect another planet that is exactly like our own.<br>\n",
    "<font color='cornflowerblue'>**Discuss:**</font> What is a planet?  Work with your group to come up with a solid definition for a planet. \n",
    "\n"
   ]
  },
  {
   "cell_type": "markdown",
   "metadata": {},
   "source": [
    "\n",
    "\n",
    "In this research project, we'll be looking at how astronomers find planets around other stars (exoplanets), and what we can learn about planets through each method.  You will use real astronomical databases to study signals from real planets and stars, and put them on a density diagram to see if they resemble our home in any way.\n",
    "\n",
    "<br><br>\n",
    "\n",
    "<font color='cornflowerblue'>**How many exoplanets do you think have been discovered so far?**</font>  Once you've made a guess, head to the [Exoplanet Archive](https://exoplanetarchive.ipac.caltech.edu/) to see the current number.  <br><br>\n",
    "Can you believe that in all those planets, not a one of them looks just like our own???  <font color='cornflowerblue'>**WHY?**</font> <br>  \n",
    "<br>\n",
    "<br>\n",
    "<br>\n",
    "<br>\n",
    "<br>\n",
    "<br>\n",
    "<br>\n",
    "<br>\n",
    "<br><br>\n",
    "<br><br>\n",
    "<br><br>\n",
    "<br><br>\n",
    "<font color='cornflowerblue'>**Discuss:**</font> Ok, what would make a planet \"Earth-like\"?  Determine at least four things we should look for before we call a planet \"Earth-like\".\n",
    "\n",
    "<br>  \n",
    "<br>\n",
    "<br>\n",
    "<br>\n",
    "<br>\n",
    "<br>\n",
    "<br>\n",
    "<br>\n",
    "<br>\n",
    "<br><br>\n",
    "<br><br>\n",
    "<br><br>\n",
    "<br><br>"
   ]
  },
  {
   "cell_type": "markdown",
   "metadata": {},
   "source": [
    "<font color='cornflowerblue' size = 6>But first, some terminology!</font>\n",
    "<br><br>\n",
    "<font color='cornflowerblue' size = 4>- Units!</font>\n",
    "#### Q: What are some units of distance?<br><br>\n",
    "#### Q: What are some units of mass?<br><br>\n",
    "#### Q: What are some units of time?<br><br>\n",
    "Google the distance from the Earth to the Sun in km.  Yikes, that's a big number, I don't like working with numbers like that, it's messy.  We generally are most comfortable working with units that let the value be around 1-10.  Ex: You don't talk about the distance between Tucson and Phoenix in feet!  It's too big, and also we don't need to be that precise either.  So astronomers have defined more convenient units than km and kg:\n",
    "\n",
    " - Mass: \n",
    "     - Solar masses ($M_\\odot$): 1 $M_\\odot$ = the mass of our Sun = $2\\times10^{30}$ kg;\n",
    "         good for talking about the masses of stars\n",
    "     - Jupiter masses ($M_\\mathrm{Jup}$): 1 $M_\\mathrm{Jup}$ = the mass of Jupiter = $2\\times10^{27}$ kg;\n",
    "         good for talking about the masses of planets\n",
    "     - Earth masses ($M_\\oplus$): 1 $M_\\oplus$ = the mass of Earth = $6\\times10^{24}$ kg;\n",
    "         good for talking about the masses of smaller planets\n",
    "<br><br>\n",
    " - Distance:\n",
    "     - Astronomical Units (AU): 1 AU = the average distance from the Earth to the Sun = $1.5\\times10^{8}$ km; good for talking about distances within solar systems\n",
    "     - Parsec (pc): 1 pc = 3.3 ly = $3\\times10^{13}$ km; good for talking about distances between stars\n",
    "<br>   <br>  \n",
    " - Time:  just the same old ones you're used to!\n",
    "     - You might see Barycentric Julian Days (BJD).  The length of 1 BJD = the length of one solar day, it just has a different zero point. "
   ]
  },
  {
   "cell_type": "markdown",
   "metadata": {},
   "source": [
    "<br><br>\n",
    "<font color='cornflowerblue' size = 4>- Orbits!</font>\n",
    "\n",
    "#### Q: What is an \"orbit\"?<br><br>\n",
    "\n",
    "Gravitationally bound orbits are always ellipses (ovals). You may be somewhat familiar with this already. When you picture the solar system, you probably think of something kinda like this, with the sun at the center and the planets orbiting around it:\n",
    "![orbits](http://www.loganpearcescience.com/wsp/orbits-small.jpg)\n",
    "\n",
    "\n",
    "There are 3 laws of planetary motion, called \"Kepler's Laws of Planetary Motion\" that describe orbits!\n",
    "\n",
    "1. <font color='salmon'> The orbit of a planet is an ellipse with the Sun at one of the two foci.</font>\n",
    "2. <font color='turquoise'>A line segment joining a planet and the Sun sweeps out equal areas during equal intervals of time.</font>\n",
    "3. <font color='yellowgreen'>The square of the orbital period of a planet is directly proportional to the cube of the semi-major axis of its orbit.</font>\n",
    "\n",
    "Planets orbit around stars. But what about stars? <font color='cornflowerblue'>**Do stars in our galaxy orbit around anything?**</font>\n",
    "<br/><br/>\n",
    "<br/><br/>\n",
    "<br/><br/>\n",
    "<br/><br/>\n",
    "\n",
    "<img src=\"https://bowlerhatscience.files.wordpress.com/2012/10/orbits_anim_science_2012.gif\" alt=\"GalacticCenter\"/><br>\n",
    "    The gif above shows observations of the movements of a few stars that are at the very center of our galaxy. A supermassive black hole was theorized to live at the center of our galaxy, and it's existence was confirmed using the motions of these stars. The white star shape in the gif represents Sagittarius A* (or Sgr A*, pronounced \"Sagittarius A-Star\", which is the name of the black hole at the center of our galaxy! \n",
    "    \n",
    "   Notice that the orbits of these stars look very different from the orbits of the planets! They are much less circular. If you watch each of the stars in its orbit, it's also very easy to see that the stars move much more quickly when they are near the star, and much more slowly when they are far away from the star! "
   ]
  },
  {
   "cell_type": "markdown",
   "metadata": {},
   "source": [
    "<font size=4>**What is an orbit?**</font>\n",
    "\n",
    "An orbit is completely described by six orbital parameters. If you know what these 6 parameters are for a given planet, you can accurately reconstruct it's orbit. \n",
    "\n",
    "We're going to focus on **three** of the six orbital parameters, the two that describe the shape of the orbit and one that describes how the orbit it oriented in the sky."
   ]
  },
  {
   "cell_type": "markdown",
   "metadata": {},
   "source": [
    "## The first parameter: the semi-major axis (a)\n",
    "\n",
    "The first parameter of an orbit is the *semi-major axis*, often denoted $a$.  This can be thought of as the radius of an orbit at its most distant point. Specifically, the semi-major axis is half the major axis of an ellipse, which is shown by the red line labeled $a$ in the figure below. The semi-major axis is related to the period (we'll learn more about this later).  The semi-major axis can have any value from $0$ to $\\infty$.\n",
    "\n",
    "As a note, a star will always be in one of the _foci_ of the orbits (in the image, denoted F1 and F2).  So, if the ellipse below were an orbit and the star was at F1, the planet would be much closer to the star when it is on the left part of its orbit (called *pericenter*) than when it is on the right (called *apocenter*).\n",
    "\n",
    "\n",
    "<img src=\"https://upload.wikimedia.org/wikipedia/commons/a/a1/Ellipse_semi-major_and_minor_axes.svg\" alt=\"Semi-major axis\" style=\"width: 400px;\"/>\n",
    "\n",
    "The blue line labeled $b$ is the *semi-minor axis*. A circle is just a special ellipse where $a=b$!\n",
    "<br/><br/>\n",
    "<br/><br/>"
   ]
  },
  {
   "cell_type": "markdown",
   "metadata": {},
   "source": [
    "## The one-point-five-th parameter: Period (P)\n",
    "\n",
    "Period is the amount of time it takes to complete one orbit, i.e. for the planet to go from periastron all the way around and back to periastron again.  What is the Earth's orbital period?<br><br>\n",
    "\n",
    "Kepler's third law states there is a mathematical relationship between the semi-major axis of and orbit and the orbital period.  That relationship is:\n",
    "\n",
    "$$P^2  = \\frac{4 \\pi^2 a^3}{G M_*}$$\n",
    "\n",
    "So if you know the semi-major axis and the mass of the host star, you can get the period, and if you know the period you can get the semi-major axis.\n",
    "\n",
    "<br><br><br><br>"
   ]
  },
  {
   "cell_type": "markdown",
   "metadata": {},
   "source": [
    "## The second parameter: eccentricity (e)\n",
    "\n",
    "The second parameter of an orbit is the *orbital eccentricity*, often denoted $e$.  The orbital eccentricity is the measure of how circular (or non-circular) an orbit is.  The eccentricity of an orbit is defined as the ratio $e=\\frac{c}{a}$ where $c$ is the distance between the center of the ellipse and one of the *foci*, and $a$ is the semi-major axis! An eccentricity of $0$ is a perfect circle, since the *foci* of the ellipse and the center of the ellipse are at the same point, so $c=0$. For a bound orbit (meaning a path that will continually repeat), the eccentricity should be between $0$ and $0.\\overline{99}$\n",
    "\n",
    "\n",
    "<img src=\"https://earthobservatory.nasa.gov/ContentFeature/OrbitsCatalog/images/ellipse_diagram.png\" alt=\"Eccentricity\" style=\"width: 400px;\"/>\n",
    "\n",
    "Here are some ellipses with different eccentricities, but all with one of the same *foci* points.\n",
    "\n",
    "An eccentricity $\\ge 1$ describes an unbound (parabolic or hyperbolic/ejecting) orbit.  \n",
    "\n",
    "<img src=\"http://www.loganpearcescience.com/wsp//Principal-sketch-of-different-orbit-types-depending-on-eccentricity-e-An-orbit-with.png\" alt=\"Eccentricity 2\" style=\"width: 400px;\"/>\n",
    "\n",
    "An asteroid that passes by the Earth, changes trajectory slightly, and then flies away, has an unbound orbit, because it will not return to the Earth. For example, we have now detected TWO interstellar objects, named 1I/Omuamua and 2I/Borisov, whuch we knew were from another solar system because they are on hyperbolic orbits -> not bound to our sun!\n",
    "\n",
    "<br><br><br><br>"
   ]
  },
  {
   "cell_type": "markdown",
   "metadata": {},
   "source": [
    "## The third parameter: inclination (i)\n",
    "\n",
    "The third parameter of an orbit is the *inclination*, $i$, which describes how tilted an orbit is relative to a reference plane.  An inclination of $0^{\\circ}$ means that the orbit plane and the reference plane (for instance, the Sun's equator) are aligned.  An inclination of $90^{\\circ}$ means that the orbit is polar, or exactly perpendicular to, the reference plane. \n",
    "\n",
    "Here is an image of the planets in our solar system plus Pluto, which is one of many Kuiper Belt Objects (similar to the Asteroid Belt beyond the orbit of Neptune).  What do you notice about their inclinations?\n",
    "\n",
    "<img src=\"http://www.loganpearcescience.com/wsp/solar_system.gif\" alt=\"Inclination\" style=\"width: 400px;\"/>\n",
    "\n",
    "\n",
    "Inclination angles can range from $0-180^{\\circ}$. Orbit angles are often expressed in radians (in radians $0^{\\circ}=0$ rad, $180^{\\circ}=\\pi$ rad, and $360^{\\circ}=2\\pi$ rad), so orbital inclination can vary between $0-\\pi$. (If you don't know or remember very much about radians, that's okay! Python has functions that will convert degrees into radians.)\n",
    "\n",
    "<br><br><br><br>\n",
    "\n",
    "\n",
    "\n"
   ]
  },
  {
   "cell_type": "markdown",
   "metadata": {},
   "source": [
    "<font color='cornflowerblue' size = 6>Ok, on to the science! How do we detect exoplanets anyway?</font>\n",
    "<br><br>"
   ]
  },
  {
   "cell_type": "markdown",
   "metadata": {},
   "source": [
    "Click [here](https://exoplanets.nasa.gov/alien-worlds/ways-to-find-a-planet/#) to explore the ways we can directly and indirectly detect and study planets around other stars.  Make note of what kinds of planets each method can detect.  Close to the host star?  Far from the host star?  Young, old, age doesn't matter?  Big, small, size doesn't matter?"
   ]
  },
  {
   "cell_type": "markdown",
   "metadata": {},
   "source": [
    "Especially note what kinds of information we can get from each method!  Click on \"More Info\" below each method."
   ]
  },
  {
   "cell_type": "markdown",
   "metadata": {},
   "source": [
    "<sup> Notebook written by [Logan Pearce](https://github.com/logan-pearce) (loganpearce1@email.arizona.edu) in 2022. Adapted from workbooks by [Katie Chamberlain](https://katiechambe.github.io) and [Rachel Smullen](https://rsmullen.github.io/).</sup>"
   ]
  },
  {
   "cell_type": "markdown",
   "metadata": {},
   "source": []
  }
 ],
 "metadata": {
  "kernelspec": {
   "display_name": "Python 3.8.3 64-bit ('wsp': conda)",
   "language": "python",
   "name": "python3"
  },
  "language_info": {
   "codemirror_mode": {
    "name": "ipython",
    "version": 3
   },
   "file_extension": ".py",
   "mimetype": "text/x-python",
   "name": "python",
   "nbconvert_exporter": "python",
   "pygments_lexer": "ipython3",
   "version": "3.8.3"
  },
  "vscode": {
   "interpreter": {
    "hash": "7e7403a945568f5309ee3d06baa529927a2574c4be8b4debc5ee1d639890bbc8"
   }
  }
 },
 "nbformat": 4,
 "nbformat_minor": 2
}
